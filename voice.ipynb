{
 "cells": [
  {
   "cell_type": "code",
   "execution_count": null,
   "source": [
    "!pip3 install --upgrade speechrecognition\r\n",
    "import speech_recognition as sr\r\n",
    "sr.__version__"
   ],
   "outputs": [],
   "metadata": {}
  },
  {
   "cell_type": "code",
   "execution_count": null,
   "source": [
    "!pip install pipwin\r\n",
    "!pipwin install pyaudio"
   ],
   "outputs": [],
   "metadata": {}
  },
  {
   "cell_type": "code",
   "execution_count": null,
   "source": [
    "from speech_recognition import *\r\n",
    "from pyautogui import *\r\n",
    "import clipboard\r\n",
    "import keyboard\r\n",
    "import pyaudio\r\n",
    "import time # 필요한 모듈 불러오기\r\n",
    "def read_voice(): # 음성 인식을 하는 함수\r\n",
    "    r = Recognizer()\r\n",
    "    mic = Microphone() # 마이크 객체\r\n",
    "    \r\n",
    "    with mic as source:\r\n",
    "        audio = r.listen(source) # 음성 읽어오기\r\n",
    "        \r\n",
    "    voice_data = r.recognize_google(audio, language='ko')\r\n",
    "    return voice_data # 값 반환\r\n",
    "def typing(value): # 키보드 입력을 하는 함수\r\n",
    "    clipboard.copy(value)\r\n",
    "    hotkey('ctrl', 'v')\r\n",
    "    \r\n",
    "while True:\r\n",
    "    if keyboard.is_pressed('ctrl+alt'): # ctrl+alt를 눌렀을 때에 실행 (바꾸어도 상관 없습니다.)\r\n",
    "        voice = read_voice() # 음성 인식\r\n",
    "        time.sleep(0.1) \r\n",
    "        typing(voice) # 타이핑\r\n",
    "        press('enter') # 줄바꿈 하기 (생략해도 됩니다.)"
   ],
   "outputs": [],
   "metadata": {}
  },
  {
   "cell_type": "code",
   "execution_count": null,
   "source": [],
   "outputs": [],
   "metadata": {}
  }
 ],
 "metadata": {
  "orig_nbformat": 4,
  "language_info": {
   "name": "python",
   "version": "3.7.7",
   "mimetype": "text/x-python",
   "codemirror_mode": {
    "name": "ipython",
    "version": 3
   },
   "pygments_lexer": "ipython3",
   "nbconvert_exporter": "python",
   "file_extension": ".py"
  },
  "kernelspec": {
   "name": "python3",
   "display_name": "Python 3.7.7 64-bit"
  },
  "interpreter": {
   "hash": "f11cfeda00aeb34cf19cf102efc18749525e26452308477c449f8824c9dd043d"
  }
 },
 "nbformat": 4,
 "nbformat_minor": 2
}